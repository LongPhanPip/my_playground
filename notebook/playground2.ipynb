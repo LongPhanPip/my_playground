{
 "cells": [
  {
   "cell_type": "code",
   "execution_count": null,
   "id": "c1e41e6c",
   "metadata": {},
   "outputs": [],
   "source": [
    "import random\n",
    "from mxnet import autograd, np, npx"
   ]
  },
  {
   "cell_type": "code",
   "execution_count": 1,
   "id": "a9a5199e",
   "metadata": {},
   "outputs": [],
   "source": [
    "import tensorflow as tf\n",
    "import numpy as np\n",
    "import random\n",
    "from tensorflow import keras"
   ]
  },
  {
   "cell_type": "code",
   "execution_count": null,
   "id": "c210f001",
   "metadata": {},
   "outputs": [],
   "source": [
    "def synthetic_data(w, b, num_examples):\n",
    "    X = np.random.normal(0, 1, (num_examples, len(w)))\n",
    "    y = np.dot(X, w) + b\n",
    "    y += np.random.normal(0, 0.01, y.shape)\n",
    "    return X, y.reshape((-1, 1))"
   ]
  },
  {
   "cell_type": "code",
   "execution_count": null,
   "id": "6201068d",
   "metadata": {},
   "outputs": [],
   "source": [
    "true_w = np.array([2, -3.4])\n",
    "true_b = 4.2\n",
    "features, labels = synthetic_data(true_w, true_b, 1000)"
   ]
  },
  {
   "cell_type": "code",
   "execution_count": null,
   "id": "f06a2a4c",
   "metadata": {},
   "outputs": [],
   "source": [
    "import matplotlib.pyplot as plt"
   ]
  },
  {
   "cell_type": "code",
   "execution_count": null,
   "id": "d9eef883",
   "metadata": {},
   "outputs": [],
   "source": [
    "plt.scatter(features[:, 0], labels)"
   ]
  },
  {
   "cell_type": "code",
   "execution_count": null,
   "id": "9aa9241b",
   "metadata": {},
   "outputs": [],
   "source": [
    "def data_iter(batch_size, features, labels):\n",
    "    num_examples = len(features)\n",
    "    indices = list(range(num_examples))\n",
    "    # The examples are read at random, in no particular order \n",
    "    random.shuffle(indices)\n",
    "    for i in range(0, num_examples, batch_size):\n",
    "        batch_indices = np.array(indices[i:min(i + batch_size, num_examples)])\n",
    "        yield tf.constant(features[batch_indices]), tf.constant(labels[batch_indices])"
   ]
  },
  {
   "cell_type": "code",
   "execution_count": null,
   "id": "48083d95",
   "metadata": {},
   "outputs": [],
   "source": [
    "def linreg(X, w, b):\n",
    "    return X @ w + b\n",
    "\n",
    "def squared_loss(y_hat, y):\n",
    "    return tf.reduce_sum(tf.pow(y_hat - tf.reshape(y, y_hat.shape), 2)) / (2 * len(y))\n",
    "\n",
    "def sgd(w, grad, lr):\n",
    "    return w - tf.reduce_sum(grad, lr)"
   ]
  },
  {
   "cell_type": "code",
   "execution_count": null,
   "id": "6f5f2aa0",
   "metadata": {},
   "outputs": [],
   "source": [
    "model = keras.models.Sequential(keras.layers.Dense(1))\n",
    "loss_func = keras.losses.mean_squared_error\n",
    "optimizer = keras.optimizers.SGD(learning_rate=0.03)"
   ]
  },
  {
   "cell_type": "code",
   "execution_count": null,
   "id": "062a625b",
   "metadata": {},
   "outputs": [],
   "source": [
    "BATCH_SIZE = 10\n",
    "EPOCH = 4\n",
    "train_set = tf.data.Dataset.from_tensor_slices((features, labels)).shuffle(100).batch(BATCH_SIZE)\n",
    "for epoch in range(EPOCH):\n",
    "    for X, y in train_set:\n",
    "        with tf.GradientTape() as tape:\n",
    "            theta = model(X)\n",
    "            loss = tf.reduce_sum(loss_func(theta, y)) / len(y)\n",
    "        grad = tape.gradient(loss, model.variables)\n",
    "        optimizer.apply_gradients(zip(grad, model.variables))\n",
    "    main_loss = tf.reduce_sum(loss_func(model(features), labels)) / len(features)\n",
    "    print(f'Epoch {epoch} loss:{main_loss}')"
   ]
  },
  {
   "cell_type": "code",
   "execution_count": null,
   "id": "c0b446bc",
   "metadata": {},
   "outputs": [],
   "source": [
    "model.variables"
   ]
  },
  {
   "cell_type": "code",
   "execution_count": null,
   "id": "700e467c",
   "metadata": {},
   "outputs": [],
   "source": [
    "(x_train, y_train), (x_test, y_test) = keras.datasets.fashion_mnist.load_data()"
   ]
  },
  {
   "cell_type": "code",
   "execution_count": null,
   "id": "efcd4129",
   "metadata": {},
   "outputs": [],
   "source": [
    "model = keras.models.Sequential()\n",
    "model.add(keras.layers.Flatten(input_shape=[28, 28]))\n",
    "model.add(keras.layers.Dense(10, activation='softmax'))"
   ]
  },
  {
   "cell_type": "code",
   "execution_count": null,
   "id": "91a14ba9",
   "metadata": {},
   "outputs": [],
   "source": [
    "loss = keras.losses.sparse_categorical_crossentropy\n",
    "optimizer = keras.optimizers.SGD(learning_rate=0.001, momentum=0.95)\n",
    "metric = keras.metrics.Accuracy()"
   ]
  },
  {
   "cell_type": "code",
   "execution_count": null,
   "id": "526cf1ad",
   "metadata": {},
   "outputs": [],
   "source": [
    "batch_size = 32\n",
    "train_set = tf.data.Dataset.from_tensor_slices((x_train, y_train)).shuffle(100).batch(batch_size)\n",
    "for epoch in range(10):\n",
    "    for X, y in train_set:\n",
    "        with tf.GradientTape() as tape:\n",
    "            l = tf.reduce_sum(loss(y, model(X))) / len(y)\n",
    "        grad = tape.gradient(l, model.variables)\n",
    "        optimizer.apply_gradients(zip(grad, model.variables))\n",
    "    y_pred = tf.argmax(model(x_test), axis=1)\n",
    "    metric.update_state(y_pred, y_test)\n",
    "    print(f\"Epoch {epoch}: accuracy test: {metric.result()}\")\n",
    "    metric.reset_state()"
   ]
  },
  {
   "cell_type": "code",
   "execution_count": null,
   "id": "44cc8291",
   "metadata": {},
   "outputs": [],
   "source": [
    "num_inputs, num_outputs, num_hiddens = 784, 10, 1000\n",
    "w1 = tf.Variable(np.random.normal(size=(num_inputs, num_hiddens)), dtype=tf.float32)\n",
    "b1 = tf.Variable(np.random.normal())\n",
    "w2 = tf.Variable(np.random.normal(size=(num_hiddens, num_outputs)), dtype=tf.float32)\n",
    "b2 = tf.Variable(np.random.normal())\n",
    "\n",
    "params = [w1, b1, w2, b2]"
   ]
  },
  {
   "cell_type": "code",
   "execution_count": null,
   "id": "f6e5b26d",
   "metadata": {},
   "outputs": [],
   "source": [
    "def relu(X):\n",
    "    return tf.maximum(X, 0)\n",
    "\n",
    "def net(X):\n",
    "    X = tf.cast(tf.reshape(X, [-1, 784]), dtype=tf.float32)\n",
    "    H = relu(X @ w1 + b1)\n",
    "    return tf.keras.activations.softmax(H @ w2 + b2, axis=-1)\n",
    "\n",
    "loss = keras.losses.sparse_categorical_crossentropy\n",
    "optimizer = keras.optimizers.Adam()\n",
    "metric = keras.metrics.Accuracy()"
   ]
  },
  {
   "cell_type": "code",
   "execution_count": null,
   "id": "f31cd6ef",
   "metadata": {
    "scrolled": true
   },
   "outputs": [],
   "source": [
    "batch_size = 32\n",
    "train_set = tf.data.Dataset.from_tensor_slices((x_train, y_train)).shuffle(100).batch(batch_size)\n",
    "for epoch in range(5):\n",
    "    for X, y in train_set:\n",
    "        with tf.GradientTape() as tape:\n",
    "            l = tf.reduce_sum(loss(y, net(X))) / len(y)\n",
    "        grad = tape.gradient(l, params)\n",
    "        optimizer.apply_gradients(zip(grad, params))\n",
    "    y_pred = tf.argmax(net(x_test), axis=1)\n",
    "    metric.update_state(y_pred, y_test)\n",
    "    print(f\"Epoch {epoch}: accuracy test: {metric.result()}\")\n",
    "    metric.reset_state()"
   ]
  },
  {
   "cell_type": "code",
   "execution_count": null,
   "id": "087348fb",
   "metadata": {},
   "outputs": [],
   "source": [
    "a = tf.reshape(x_train, [-1, 784])[0]"
   ]
  },
  {
   "cell_type": "code",
   "execution_count": null,
   "id": "4bf1e587",
   "metadata": {
    "scrolled": true
   },
   "outputs": [],
   "source": [
    "X = tf.cast(tf.reshape(x_train, [-1, 784]), dtype=tf.float64)"
   ]
  },
  {
   "cell_type": "code",
   "execution_count": null,
   "id": "4bbdc87b",
   "metadata": {},
   "outputs": [],
   "source": [
    "model = keras.models.Sequential([\n",
    "    keras.layers.Flatten(input_shape=[28, 28]),\n",
    "    keras.layers.Dense(300, activation='relu'),\n",
    "    keras.layers.Dropout(0.5),\n",
    "    keras.layers.Dense(400, activation='relu'),\n",
    "    keras.layers.Dense(100, activation='relu'),\n",
    "    keras.layers.Dense(10, activation='softmax')\n",
    "])"
   ]
  },
  {
   "cell_type": "code",
   "execution_count": null,
   "id": "b7c60d8e",
   "metadata": {},
   "outputs": [],
   "source": [
    "model.summary()"
   ]
  },
  {
   "cell_type": "code",
   "execution_count": null,
   "id": "934ef8c1",
   "metadata": {},
   "outputs": [],
   "source": [
    "model.compile(loss=keras.losses.sparse_categorical_crossentropy,\n",
    "              optimizer=keras.optimizers.SGD(learning_rate=0.01, momentum=0.9),\n",
    "              metrics=[\"accuracy\"])\n"
   ]
  },
  {
   "cell_type": "code",
   "execution_count": null,
   "id": "1dcb0ecb",
   "metadata": {
    "scrolled": true
   },
   "outputs": [],
   "source": [
    "# x_train = x_train / 255.0\n",
    "# x_test = x_test / 255.0\n",
    "model.fit(x_train, y_train, epochs=30, validation_data=(x_test, y_test))"
   ]
  },
  {
   "cell_type": "code",
   "execution_count": 49,
   "id": "4f4c88cd",
   "metadata": {},
   "outputs": [],
   "source": [
    "def custom_loss(alpha):\n",
    "    def log_rmse(y_true, y_pred):\n",
    "        # Log root mean square error\n",
    "        diff = tf.math.log(y_true) - tf.math.log(y_pred)\n",
    "        diff_pow_2 = tf.pow(diff, 2)\n",
    "        diff_mean = tf.reduce_mean(diff_pow_2)\n",
    "        return alpha * tf.sqrt(diff_mean)\n",
    "    \n",
    "    return log_rmse\n"
   ]
  },
  {
   "cell_type": "code",
   "execution_count": 50,
   "id": "73a056ba",
   "metadata": {},
   "outputs": [],
   "source": [
    "class CustomLoss(keras.losses.Loss):\n",
    "    def __init__(self, alpha, **kwargs):\n",
    "        super().__init__(**kwargs)\n",
    "        self.alpha = alpha\n",
    "        self.name = 'haha'\n",
    "        \n",
    "    def call(self, y_true, y_pred):\n",
    "        return custom_loss(self.alpha)(y_true, y_pred)\n",
    "    \n",
    "    def get_config(self):\n",
    "        base_config = super().get_config()\n",
    "        return {**base_config, \"alpha\": self.alpha}"
   ]
  },
  {
   "cell_type": "code",
   "execution_count": 51,
   "id": "265f90c7",
   "metadata": {},
   "outputs": [
    {
     "data": {
      "text/plain": [
       "<tf.Tensor: shape=(), dtype=float32, numpy=0.3465736>"
      ]
     },
     "execution_count": 51,
     "metadata": {},
     "output_type": "execute_result"
    }
   ],
   "source": [
    "custom_loss(0.5)(tf.constant([1.0]), tf.constant([2.0]))"
   ]
  },
  {
   "cell_type": "code",
   "execution_count": 52,
   "id": "513679c5",
   "metadata": {},
   "outputs": [],
   "source": [
    "cus_loss = CustomLoss(0.5)"
   ]
  },
  {
   "cell_type": "code",
   "execution_count": 54,
   "id": "3f4ded5f",
   "metadata": {},
   "outputs": [
    {
     "data": {
      "text/plain": [
       "<tf.Tensor: shape=(), dtype=float32, numpy=0.3465736>"
      ]
     },
     "execution_count": 54,
     "metadata": {},
     "output_type": "execute_result"
    }
   ],
   "source": [
    "cus_loss(tf.constant([1.0]), tf.constant([2.0]))"
   ]
  },
  {
   "cell_type": "code",
   "execution_count": 65,
   "id": "d8918564",
   "metadata": {},
   "outputs": [],
   "source": [
    "def custom_activation(alpha):\n",
    "    def my_activation(x):\n",
    "        if x > 1:\n",
    "            return tf.constant(x, dtype=tf.float32)\n",
    "        else :\n",
    "            return tf.maximum(x - alpha, 0)\n",
    "    return my_activation"
   ]
  },
  {
   "cell_type": "code",
   "execution_count": null,
   "id": "b59b8f43",
   "metadata": {},
   "outputs": [],
   "source": [
    "class CustomActivation(keras.layers.Layer):\n",
    "    "
   ]
  },
  {
   "cell_type": "code",
   "execution_count": 67,
   "id": "191fc68c",
   "metadata": {},
   "outputs": [
    {
     "data": {
      "text/plain": [
       "<tf.Tensor: shape=(), dtype=float32, numpy=0.0>"
      ]
     },
     "execution_count": 67,
     "metadata": {},
     "output_type": "execute_result"
    }
   ],
   "source": [
    "custom_activation(0.5)(0.3)"
   ]
  },
  {
   "cell_type": "code",
   "execution_count": 68,
   "id": "9f4c55f4",
   "metadata": {},
   "outputs": [],
   "source": [
    "def custom_initializer(shape, dtype=tf.float32):\n",
    "    stddev = tf.sqrt(2. / (shape[0] + shape[1]))\n",
    "    return tf.random.normal(shape, stddev=stddev, dtype=dtype)"
   ]
  },
  {
   "cell_type": "code",
   "execution_count": 69,
   "id": "9a091d3b",
   "metadata": {},
   "outputs": [],
   "source": [
    "def custom_regularizer(weights, alpha):\n",
    "    return alpha * tf.reduce_sum(tf.abs(weights))"
   ]
  },
  {
   "cell_type": "code",
   "execution_count": 73,
   "id": "52aec99c",
   "metadata": {},
   "outputs": [],
   "source": [
    "def custom_constraint(weights, threshold):\n",
    "    return tf.where(weight > threshold, tf.zeros_like(weights), weights)"
   ]
  },
  {
   "cell_type": "code",
   "execution_count": 84,
   "id": "d79d4cc0",
   "metadata": {},
   "outputs": [],
   "source": [
    "class CustomMetric(keras.metrics.Metric):\n",
    "    def __init__(self, alpha, **kwargs):\n",
    "        super().__init(**kwargs)\n",
    "        self.alpha = alpha\n",
    "        self.log_rmse = custom_loss(alpha)\n",
    "        self.total = self.add_weight(\"total\", initializer='zeros')\n",
    "        self.count = self.add_weight(\"count\", initializer='zeros')\n",
    "    def update_state(self, y_true, y_pred):\n",
    "        metric = self.log_rmse(y_true, y_pred)\n",
    "        self.total.assign_add(tf.reduce_sum(metric))\n",
    "        self.count.assign_add(tf.cast(tf.size(y_true), dtype=tf.float32))\n",
    "        \n",
    "    def result(self):\n",
    "        return self.total / self.count\n",
    "    \n",
    "    def get_config(self):\n",
    "        base_config = self.get_config()\n",
    "        return {**base_config, 'alpha': self.alpha}"
   ]
  },
  {
   "cell_type": "code",
   "execution_count": 79,
   "id": "b49da316",
   "metadata": {},
   "outputs": [],
   "source": [
    "tf.keras.optimizers.get?"
   ]
  },
  {
   "cell_type": "code",
   "execution_count": 88,
   "id": "c9aeef68",
   "metadata": {
    "scrolled": true
   },
   "outputs": [],
   "source": [
    "class CustomOptimizer(keras.optimizers.Optimizer):\n",
    "    def __init__(self, learning_rate=0.01, **kwargs):\n",
    "        super().__init__(**kwargs)\n",
    "        self._set_hyper('learning_rate', kwargs.get('lr', learning_rate))\n",
    "        \n",
    "    def _create_slots(self, var_list):\n",
    "        for var in var_list:\n",
    "            self.add_slot(var, \"prev_var\")\n",
    "        for var in var_list:\n",
    "            self.add_slot(var, \"prev_grad\")\n",
    "            \n",
    "    def _resource_apply_dense(self, grad, var):\n",
    "        var_dtype = var.dtype.base_dtype\n",
    "        lr_t = self._decayed_lr(var_dtype) # get learning rate decay\n",
    "\n",
    "        new_var_m = var - grad * lr_t\n",
    "\n",
    "        \n",
    "        pv_var = self.get_slot(var, \"prev_var\")\n",
    "        pg_var = self.get_slot(var, \"prev_grad\")\n",
    "        \n",
    "        if self._is_first:\n",
    "            self._is_first = False\n",
    "            new_var = new_var_m\n",
    "        else:\n",
    "            cond = grad*pg_var >= 0\n",
    "            avg_weights = (pv_var + var)/2.0\n",
    "            new_var = tf.where(cond, new_var_m, avg_weights)\n",
    "            \n",
    "        pv_var.assign(var)\n",
    "        pg_var.assign(grad)\n",
    "\n",
    "        var.assign(new_var)\n",
    "        \n",
    "    def get_config(self):\n",
    "        base_config = super().get_config()\n",
    "        return {\n",
    "            **base_config,\n",
    "            \"learning_rate\": self._serialize_hyperparameter(\"learning_rate\"),\n",
    "            \"decay\": self._serialize_hyperparameter(\"decay\"),\n",
    "            \"momentum\": self._serialize_hyperparameter(\"momentum\"),\n",
    "        }\n",
    "        "
   ]
  },
  {
   "cell_type": "code",
   "execution_count": 85,
   "id": "11197743",
   "metadata": {},
   "outputs": [],
   "source": [
    "a = tf.constant(1.0)"
   ]
  },
  {
   "cell_type": "code",
   "execution_count": 87,
   "id": "5a2beba3",
   "metadata": {},
   "outputs": [
    {
     "data": {
      "text/plain": [
       "tf.float32"
      ]
     },
     "execution_count": 87,
     "metadata": {},
     "output_type": "execute_result"
    }
   ],
   "source": [
    "a.dtype.base_dtype"
   ]
  },
  {
   "cell_type": "code",
   "execution_count": 109,
   "id": "f89070f8",
   "metadata": {},
   "outputs": [],
   "source": [
    "class CustomLayer(keras.layers.Layer):\n",
    "    def __init__(self, units, activation='relu', **kwargs):\n",
    "        super().__init__(**kwargs)\n",
    "        self.units = units\n",
    "        self.activation = keras.activations.get(activation)\n",
    "        \n",
    "    def build(self, batch_input_shape):\n",
    "        self.kernel = self.add_weight(\"kernel\",\n",
    "                                      initializer='glorot_normal',\n",
    "                                      shape=(batch_input_shape[-1], self.units))\n",
    "        \n",
    "        self.bias = self.add_weight(\"bias\",\n",
    "                                    shape=(self.units),\n",
    "                                    initializer='zeros')\n",
    "    \n",
    "    def call(self, X):\n",
    "        return self.activation(X @ self.kernel + self.bias)\n",
    "    \n",
    "    def get_config(self):\n",
    "        base_config = super().get_config()\n",
    "        return {**base_config, 'units': self.units, 'activation': self.activation}\n",
    "        "
   ]
  },
  {
   "cell_type": "code",
   "execution_count": 110,
   "id": "81c1002c",
   "metadata": {},
   "outputs": [],
   "source": [
    "layer = CustomLayer(10)"
   ]
  },
  {
   "cell_type": "code",
   "execution_count": 113,
   "id": "2e0a1834",
   "metadata": {},
   "outputs": [
    {
     "name": "stdout",
     "output_type": "stream",
     "text": [
      "Collecting pyconll\n",
      "  Downloading pyconll-3.1.0-py3-none-any.whl (26 kB)\n",
      "Installing collected packages: pyconll\n",
      "Successfully installed pyconll-3.1.0\n"
     ]
    }
   ],
   "source": [
    "!pip install pyconll"
   ]
  },
  {
   "cell_type": "code",
   "execution_count": 119,
   "id": "414c0945",
   "metadata": {},
   "outputs": [
    {
     "name": "stdout",
     "output_type": "stream",
     "text": [
      "  % Total    % Received % Xferd  Average Speed   Time    Time     Time  Current\n",
      "                                 Dload  Upload   Total   Spent    Left  Speed\n",
      "100 1066k  100 1066k    0     0   871k      0  0:00:01  0:00:01 --:--:--  872k\n"
     ]
    }
   ],
   "source": [
    "!curl https://raw.githubusercontent.com/VinAIResearch/PhoNER_COVID19/main/data/syllable/test_syllable.conll -o test_syllable.conll"
   ]
  },
  {
   "cell_type": "code",
   "execution_count": 150,
   "id": "73b38720",
   "metadata": {},
   "outputs": [],
   "source": [
    "from pathlib import Path\n",
    "import re\n",
    "\n",
    "def read_wnut(file_path):\n",
    "    '''\n",
    "        https://stackoverflow.com/questions/66984523/how-to-change-from-conll-format-into-a-sentences-list\n",
    "    '''\n",
    "    file_path = Path(file_path)\n",
    "\n",
    "    raw_text = file_path.read_text().strip()\n",
    "    raw_docs = re.split(r'\\n\\t?\\n', raw_text)\n",
    "    token_docs = []\n",
    "    tag_docs = []\n",
    "    for doc in raw_docs:\n",
    "        tokens = []\n",
    "        tags = []\n",
    "        for line in doc.split('\\n'):\n",
    "            token, tag = line.split(' ')\n",
    "            tokens.append(token)\n",
    "            tags.append(tag)\n",
    "        token_docs.append(tokens)\n",
    "        tag_docs.append(tags)\n",
    "\n",
    "    return token_docs, tag_docs\n",
    "\n",
    "texts, tags = read_wnut('test_syllable.conll')"
   ]
  },
  {
   "cell_type": "code",
   "execution_count": 205,
   "id": "088c805e",
   "metadata": {},
   "outputs": [],
   "source": [
    "T = 1000\n",
    "t = np.array(range(0, T), dtype=np.float32)\n",
    "f = np.random.normal(0, 0.1, size=T)\n",
    "x = np.sin(0.01 * t + np.random.normal(0, 0.02)) + np.random.normal(0, 0.2, size=T)"
   ]
  },
  {
   "cell_type": "code",
   "execution_count": 230,
   "id": "8fa806b4",
   "metadata": {},
   "outputs": [],
   "source": [
    "import matplotlib.pyplot as plt\n",
    "plt.style.use('seaborn-whitegrid')\n",
    "CB91_Blue = '#2CBDFE'\n",
    "CB91_Green = '#47DBCD'\n",
    "CB91_Pink = '#F3A0F2'\n",
    "CB91_Purple = '#9D2EC5'\n",
    "CB91_Violet = '#661D98'\n",
    "CB91_Amber = '#F5B14C'"
   ]
  },
  {
   "cell_type": "code",
   "execution_count": 231,
   "id": "9fdd91e0",
   "metadata": {},
   "outputs": [
    {
     "data": {
      "text/plain": [
       "[<matplotlib.lines.Line2D at 0x17075fc10>]"
      ]
     },
     "execution_count": 231,
     "metadata": {},
     "output_type": "execute_result"
    },
    {
     "data": {
      "image/png": "[encoded data removed]",
      "text/plain": [
       "<Figure size 576x432 with 1 Axes>"
      ]
     },
     "metadata": {},
     "output_type": "display_data"
    }
   ],
   "source": [
    "figsize = plt.figure(figsize=(8,6))\n",
    "plt.plot(t, x, c=CB91_Blue)"
   ]
  },
  {
   "cell_type": "code",
   "execution_count": 217,
   "id": "498e7c8b",
   "metadata": {},
   "outputs": [],
   "source": [
    "step = 4\n",
    "features = np.zeros(((T - step), step))\n",
    "for i in range(step):\n",
    "    features[:, i] = x[i: T - step + i]\n",
    "\n",
    "labels = x[step:].reshape(-1, 1)"
   ]
  },
  {
   "cell_type": "code",
   "execution_count": 258,
   "id": "2170c492",
   "metadata": {},
   "outputs": [],
   "source": [
    "model = keras.models.Sequential([keras.layers.Dense(10, activation='relu', kernel_regularizer='l2'),\n",
    "                                 keras.layers.Dense(1, kernel_regularizer='l2')])\n",
    "model.compile(loss=\"mse\", optimizer=keras.optimizers.Adam(learning_rate=0.01))"
   ]
  },
  {
   "cell_type": "code",
   "execution_count": 260,
   "id": "e4c9511c",
   "metadata": {},
   "outputs": [
    {
     "name": "stdout",
     "output_type": "stream",
     "text": [
      "Epoch 1/30\n",
      "19/19 [==============================] - 0s 793us/step - loss: 0.0659\n",
      "Epoch 2/30\n",
      "19/19 [==============================] - 0s 825us/step - loss: 0.0653\n",
      "Epoch 3/30\n",
      "19/19 [==============================] - 0s 868us/step - loss: 0.0642\n",
      "Epoch 4/30\n",
      "19/19 [==============================] - 0s 1ms/step - loss: 0.0629\n",
      "Epoch 5/30\n",
      "19/19 [==============================] - 0s 1ms/step - loss: 0.0620\n",
      "Epoch 6/30\n",
      "19/19 [==============================] - 0s 1ms/step - loss: 0.0617\n",
      "Epoch 7/30\n",
      "19/19 [==============================] - 0s 949us/step - loss: 0.0614\n",
      "Epoch 8/30\n",
      "19/19 [==============================] - 0s 969us/step - loss: 0.0603\n",
      "Epoch 9/30\n",
      "19/19 [==============================] - 0s 1ms/step - loss: 0.0595\n",
      "Epoch 10/30\n",
      "19/19 [==============================] - 0s 1ms/step - loss: 0.0595\n",
      "Epoch 11/30\n",
      "19/19 [==============================] - 0s 1ms/step - loss: 0.0584\n",
      "Epoch 12/30\n",
      "19/19 [==============================] - 0s 2ms/step - loss: 0.0586\n",
      "Epoch 13/30\n",
      "19/19 [==============================] - 0s 964us/step - loss: 0.0585\n",
      "Epoch 14/30\n",
      "19/19 [==============================] - 0s 947us/step - loss: 0.0577\n",
      "Epoch 15/30\n",
      "19/19 [==============================] - 0s 1ms/step - loss: 0.0582\n",
      "Epoch 16/30\n",
      "19/19 [==============================] - 0s 831us/step - loss: 0.0570\n",
      "Epoch 17/30\n",
      "19/19 [==============================] - 0s 965us/step - loss: 0.0576\n",
      "Epoch 18/30\n",
      "19/19 [==============================] - 0s 1ms/step - loss: 0.0564\n",
      "Epoch 19/30\n",
      "19/19 [==============================] - 0s 962us/step - loss: 0.0561\n",
      "Epoch 20/30\n",
      "19/19 [==============================] - 0s 1ms/step - loss: 0.0563\n",
      "Epoch 21/30\n",
      "19/19 [==============================] - 0s 804us/step - loss: 0.0561\n",
      "Epoch 22/30\n",
      "19/19 [==============================] - 0s 990us/step - loss: 0.0575\n",
      "Epoch 23/30\n",
      "19/19 [==============================] - 0s 938us/step - loss: 0.0557\n",
      "Epoch 24/30\n",
      "19/19 [==============================] - 0s 877us/step - loss: 0.0555\n",
      "Epoch 25/30\n",
      "19/19 [==============================] - 0s 1ms/step - loss: 0.0556\n",
      "Epoch 26/30\n",
      "19/19 [==============================] - 0s 957us/step - loss: 0.0558\n",
      "Epoch 27/30\n",
      "19/19 [==============================] - 0s 1ms/step - loss: 0.0555\n",
      "Epoch 28/30\n",
      "19/19 [==============================] - 0s 955us/step - loss: 0.0552\n",
      "Epoch 29/30\n",
      "19/19 [==============================] - 0s 921us/step - loss: 0.0550\n",
      "Epoch 30/30\n",
      "19/19 [==============================] - 0s 814us/step - loss: 0.0552\n"
     ]
    },
    {
     "data": {
      "text/plain": [
       "<tensorflow.python.keras.callbacks.History at 0x174a01550>"
      ]
     },
     "execution_count": 260,
     "metadata": {},
     "output_type": "execute_result"
    }
   ],
   "source": [
    "n_train = 600\n",
    "model.fit(features[:n_train], labels[:n_train], epochs=30, batch_size=32, )"
   ]
  },
  {
   "cell_type": "code",
   "execution_count": 261,
   "id": "64d1cba6",
   "metadata": {},
   "outputs": [
    {
     "data": {
      "text/plain": [
       "[<matplotlib.lines.Line2D at 0x174a6b130>]"
      ]
     },
     "execution_count": 261,
     "metadata": {},
     "output_type": "execute_result"
    },
    {
     "data": {
      "image/png": "[encoded data removed]",
      "text/plain": [
       "<Figure size 864x720 with 1 Axes>"
      ]
     },
     "metadata": {},
     "output_type": "display_data"
    }
   ],
   "source": [
    "figsize = plt.figure(figsize=(12,10))\n",
    "plt.plot(t, x, c=CB91_Blue)\n",
    "plt.plot(t[step:], model.predict(features).reshape(-1), c=CB91_Purple, linestyle='--')"
   ]
  },
  {
   "cell_type": "code",
   "execution_count": 262,
   "id": "1931869d",
   "metadata": {},
   "outputs": [],
   "source": [
    "k_step_pred = np.zeros(T)\n",
    "k_step_pred[: n_train + step] = x[: n_train + step]\n",
    "for i in range(n_train + step, T):\n",
    "    k_step_pred[i] = model.predict(k_step_pred[i - step: i].reshape(1, -1)) "
   ]
  },
  {
   "cell_type": "code",
   "execution_count": 263,
   "id": "3415f7a4",
   "metadata": {},
   "outputs": [
    {
     "data": {
      "text/plain": [
       "[<matplotlib.lines.Line2D at 0x1788d1f40>]"
      ]
     },
     "execution_count": 263,
     "metadata": {},
     "output_type": "execute_result"
    },
    {
     "data": {
      "image/png": "[encoded data removed]",
      "text/plain": [
       "<Figure size 864x720 with 1 Axes>"
      ]
     },
     "metadata": {},
     "output_type": "display_data"
    }
   ],
   "source": [
    "figsize = plt.figure(figsize=(12,10))\n",
    "plt.plot(t, x, c=CB91_Blue)\n",
    "plt.plot(t[n_train + step: ], k_step_pred[n_train + step: ], c=CB91_Amber)"
   ]
  },
  {
   "cell_type": "code",
   "execution_count": 611,
   "id": "b519a76b",
   "metadata": {},
   "outputs": [],
   "source": [
    "import urllib3\n",
    "import certifi\n",
    "from collections import Counter\n",
    "import numpy as np"
   ]
  },
  {
   "cell_type": "code",
   "execution_count": 612,
   "id": "c3abb527",
   "metadata": {},
   "outputs": [],
   "source": [
    "http = urllib3.PoolManager(cert_reqs='CERT_REQUIRED',\n",
    "                           ca_certs=certifi.where())"
   ]
  },
  {
   "cell_type": "code",
   "execution_count": 707,
   "id": "c27e24b3",
   "metadata": {},
   "outputs": [
    {
     "name": "stdout",
     "output_type": "stream",
     "text": [
      "  % Total    % Received % Xferd  Average Speed   Time    Time     Time  Current\n",
      "                                 Dload  Upload   Total   Spent    Left  Speed\n",
      " 41 6300k   41 2617k    0     0   8855      0  0:12:08  0:05:02  0:07:06  2585:00:03  3:17:36   5440:00:05  0:02:05 622860:02:46  0:00:55  0:01:51 126120:01:14  0:02:16  7609:29  0:02:34  344700k   37 2347k    0     0  24566      0  0:04:22  0:01:37  0:02:45  3350  0:06:02  0:02:21  0:03:41  230775      0  0:06:13  0:02:25  0:03:48   706:08:19  0:03:20  0:04:59   5727      0  0:08:59  0:03:37  0:05:22  1318    0  0:09:33  0:03:52  0:05:41   3494:17  0:06:13  1096  9049      0  0:11:52  0:04:54  0:06:58     012:08  0:05:02  0:07:06  1607^C\n"
     ]
    }
   ],
   "source": [
    "!curl http://www.manythings.org/anki/fra-eng.zip -o fra-eng.zip"
   ]
  },
  {
   "cell_type": "code",
   "execution_count": 614,
   "id": "e75836e2",
   "metadata": {},
   "outputs": [],
   "source": [
    "import shutil\n",
    "shutil.unpack_archive('fra-eng.zip', 'fra-eng', 'zip')"
   ]
  },
  {
   "cell_type": "code",
   "execution_count": 709,
   "id": "ec3ac8d0",
   "metadata": {},
   "outputs": [
    {
     "ename": "FileNotFoundError",
     "evalue": "[Errno 2] No such file or directory: 'rus-eng/rus.txt'",
     "output_type": "error",
     "traceback": [
      "\u001b[0;31m---------------------------------------------------------------------------\u001b[0m",
      "\u001b[0;31mFileNotFoundError\u001b[0m                         Traceback (most recent call last)",
      "\u001b[0;32m<ipython-input-709-42c5ee5099b3>\u001b[0m in \u001b[0;36m<module>\u001b[0;34m\u001b[0m\n\u001b[0;32m----> 1\u001b[0;31m \u001b[0;32mwith\u001b[0m \u001b[0mopen\u001b[0m\u001b[0;34m(\u001b[0m\u001b[0;34m'rus-eng/rus.txt'\u001b[0m\u001b[0;34m,\u001b[0m \u001b[0;34m'r'\u001b[0m\u001b[0;34m)\u001b[0m \u001b[0;32mas\u001b[0m \u001b[0mf\u001b[0m\u001b[0;34m:\u001b[0m\u001b[0;34m\u001b[0m\u001b[0;34m\u001b[0m\u001b[0m\n\u001b[0m\u001b[1;32m      2\u001b[0m     \u001b[0mcorpus\u001b[0m \u001b[0;34m=\u001b[0m \u001b[0mf\u001b[0m\u001b[0;34m.\u001b[0m\u001b[0mreadlines\u001b[0m\u001b[0;34m(\u001b[0m\u001b[0;34m)\u001b[0m\u001b[0;34m\u001b[0m\u001b[0;34m\u001b[0m\u001b[0m\n",
      "\u001b[0;31mFileNotFoundError\u001b[0m: [Errno 2] No such file or directory: 'rus-eng/rus.txt'"
     ]
    }
   ],
   "source": [
    "with open('rus-eng/rus.txt', 'r') as f:\n",
    "    corpus = f.readlines()"
   ]
  },
  {
   "cell_type": "code",
   "execution_count": 616,
   "id": "f05866c7",
   "metadata": {},
   "outputs": [],
   "source": [
    "def tokenize(sentence):\n",
    "    return re.findall(r\"[\\w']+|[.,!?;]\", sentence)\n",
    "\n",
    "def get_eng_rus(corpus):\n",
    "    lines = [line.split('\\t') for line in corpus]\n",
    "    eng = [tokenize(line[0].lower()) for line in lines]\n",
    "    rus = [tokenize(line[1].lower()) for line in lines]\n",
    "    return eng, rus\n",
    "\n",
    "def vocab(source, min_feq=2, reserved_token=['<pad>', '<sos>', '<eos>']):\n",
    "    counter = Counter([word for sent in source for word in sent ])\n",
    "    token_feq = sorted(counter.items(), key=lambda item: item[1], reverse=True)\n",
    "    unique_token = ['<unk>'] + reserved_token\n",
    "    unique_token += [token[0] for token in token_feq if token[1] >= min_feq and token[0] not in unique_token]\n",
    "    token_to_index = {token: index for index, token in enumerate(unique_token)}\n",
    "    return unique_token, token_to_index"
   ]
  },
  {
   "cell_type": "code",
   "execution_count": 693,
   "id": "15818b26",
   "metadata": {},
   "outputs": [],
   "source": [
    "eng, rus = get_eng_rus(corpus)"
   ]
  },
  {
   "cell_type": "code",
   "execution_count": 694,
   "id": "48c5b580",
   "metadata": {
    "scrolled": false
   },
   "outputs": [],
   "source": [
    "eng_vocab = vocab(eng)\n",
    "rus_vocab = vocab(rus)"
   ]
  },
  {
   "cell_type": "code",
   "execution_count": 619,
   "id": "21281460",
   "metadata": {},
   "outputs": [],
   "source": [
    "def vectorize(sent, token_to_index):\n",
    "    return [token_to_index.get(word, 0) for word in sent]"
   ]
  },
  {
   "cell_type": "code",
   "execution_count": 695,
   "id": "b673b24f",
   "metadata": {},
   "outputs": [],
   "source": [
    "eng_index_to_token, eng_token_to_index = eng_vocab\n",
    "rus_index_to_token, rus_token_to_index = rus_vocab"
   ]
  },
  {
   "cell_type": "code",
   "execution_count": 621,
   "id": "77c68ad2",
   "metadata": {},
   "outputs": [],
   "source": [
    "def padding(sent, num_steps, padding_token):\n",
    "    if len(sent) > num_steps:\n",
    "        return sent[:num_steps]\n",
    "    return sent + [padding_token] * (num_steps - len(sent))"
   ]
  },
  {
   "cell_type": "code",
   "execution_count": 622,
   "id": "ee19540e",
   "metadata": {},
   "outputs": [],
   "source": [
    "def build_array(sents, token_to_index, num_steps):\n",
    "    sents = [vectorize(sent, token_to_index) + [token_to_index.get('<eos>')] for sent in sents]\n",
    "    array = np.array([padding(sent, num_steps, token_to_index.get('<pad>')) for sent in sents])\n",
    "    valid_len = (array != token_to_index.get('<pad>')).astype(np.int32).sum(1)\n",
    "    return array, valid_len\n",
    "\n",
    "def add_sos(array, token_to_index):\n",
    "    start_seq = np.repeat(token_to_index.get('<sos>'), len(array))\n",
    "    return np.c_[start_seq, array[:, :-1]]"
   ]
  },
  {
   "cell_type": "code",
   "execution_count": 696,
   "id": "902078bb",
   "metadata": {},
   "outputs": [],
   "source": [
    "encoder_input_data, src_valid_len = build_array(eng, eng_token_to_index, 8)\n",
    "decoder_output_data, tgt_valid_len = build_array(rus, rus_token_to_index, 8)\n",
    "decoder_input_data = add_sos(decoder_output_data, rus_token_to_index)"
   ]
  },
  {
   "cell_type": "code",
   "execution_count": 697,
   "id": "49684ba0",
   "metadata": {},
   "outputs": [],
   "source": [
    "encoder_input_data = encoder_input_data[:, ::-1]"
   ]
  },
  {
   "cell_type": "code",
   "execution_count": 698,
   "id": "e071af22",
   "metadata": {},
   "outputs": [
    {
     "data": {
      "text/plain": [
       "7558"
      ]
     },
     "execution_count": 698,
     "metadata": {},
     "output_type": "execute_result"
    }
   ],
   "source": [
    "len(decoder_input_data)"
   ]
  },
  {
   "cell_type": "code",
   "execution_count": 676,
   "id": "223b6104",
   "metadata": {},
   "outputs": [
    {
     "data": {
      "text/plain": [
       "array([318, 130,   3,   1,   1,   1,   1,   1])"
      ]
     },
     "execution_count": 676,
     "metadata": {},
     "output_type": "execute_result"
    }
   ],
   "source": [
    "decoder_output_data[0]"
   ]
  },
  {
   "cell_type": "code",
   "execution_count": 703,
   "id": "e65cd3ae",
   "metadata": {},
   "outputs": [],
   "source": [
    "encoder_vocab_size = len(eng_index_to_token)\n",
    "encoder_embed_size = 64\n",
    "decoder_vocab_size = len(rus_index_to_token)\n",
    "decoder_embed_size = 64\n",
    "\n",
    "encoder_input = keras.layers.Input(shape=[None], dtype=np.int32)\n",
    "encoder_embeddings = keras.layers.Embedding(encoder_vocab_size, encoder_embed_size)(encoder_input)\n",
    "\n",
    "decoder_input = keras.layers.Input(shape=[None], dtype=np.int32)\n",
    "decoder_embeddings = keras.layers.Embedding(decoder_vocab_size, decoder_embed_size)(decoder_input)\n",
    "\n",
    "encoder = keras.layers.GRU(128, return_sequences=False, return_state=True)\n",
    "encoder_output, h_state = encoder(encoder_embeddings) \n",
    "\n",
    "decoder_output, _ = keras.layers.GRU(128, return_sequences=True, return_state=True)(decoder_embeddings, initial_state=encoder_output)\n",
    "decoder_out = keras.layers.Dense(decoder_vocab_size, activation='softmax')(decoder_output)\n",
    "\n",
    "model = keras.models.Model(inputs=[encoder_input, decoder_input], outputs=[decoder_out])"
   ]
  },
  {
   "cell_type": "code",
   "execution_count": 704,
   "id": "1ee97676",
   "metadata": {},
   "outputs": [
    {
     "name": "stdout",
     "output_type": "stream",
     "text": [
      "Model: \"model_41\"\n",
      "__________________________________________________________________________________________________\n",
      "Layer (type)                    Output Shape         Param #     Connected to                     \n",
      "==================================================================================================\n",
      "input_54 (InputLayer)           [(None, None)]       0                                            \n",
      "__________________________________________________________________________________________________\n",
      "input_55 (InputLayer)           [(None, None)]       0                                            \n",
      "__________________________________________________________________________________________________\n",
      "embedding_51 (Embedding)        (None, None, 64)     147520      input_54[0][0]                   \n",
      "__________________________________________________________________________________________________\n",
      "embedding_52 (Embedding)        (None, None, 64)     112000      input_55[0][0]                   \n",
      "__________________________________________________________________________________________________\n",
      "gru_50 (GRU)                    [(None, 128), (None, 74496       embedding_51[0][0]               \n",
      "__________________________________________________________________________________________________\n",
      "gru_51 (GRU)                    [(None, None, 128),  74496       embedding_52[0][0]               \n",
      "                                                                 gru_50[0][0]                     \n",
      "__________________________________________________________________________________________________\n",
      "dense_19 (Dense)                (None, None, 1750)   225750      gru_51[0][0]                     \n",
      "==================================================================================================\n",
      "Total params: 634,262\n",
      "Trainable params: 634,262\n",
      "Non-trainable params: 0\n",
      "__________________________________________________________________________________________________\n"
     ]
    }
   ],
   "source": [
    "model.summary()"
   ]
  },
  {
   "cell_type": "code",
   "execution_count": 705,
   "id": "fba3bab3",
   "metadata": {},
   "outputs": [],
   "source": [
    "model.compile(loss=keras.losses.sparse_categorical_crossentropy, optimizer='rmsprop', metrics=['accuracy'])"
   ]
  },
  {
   "cell_type": "code",
   "execution_count": 706,
   "id": "a6d6ab3f",
   "metadata": {},
   "outputs": [
    {
     "name": "stdout",
     "output_type": "stream",
     "text": [
      "Epoch 1/30\n",
      "189/189 [==============================] - 8s 24ms/step - loss: 5.2445 - accuracy: 0.1607 - val_loss: 5.8183 - val_accuracy: 0.0651\n",
      "Epoch 2/30\n",
      "189/189 [==============================] - 4s 21ms/step - loss: 4.6244 - accuracy: 0.2171 - val_loss: 5.5427 - val_accuracy: 0.0931\n",
      "Epoch 3/30\n",
      "189/189 [==============================] - 4s 20ms/step - loss: 4.3029 - accuracy: 0.2726 - val_loss: 5.3008 - val_accuracy: 0.1449\n",
      "Epoch 4/30\n",
      "189/189 [==============================] - 4s 20ms/step - loss: 4.0551 - accuracy: 0.3054 - val_loss: 5.1823 - val_accuracy: 0.1591\n",
      "Epoch 5/30\n",
      "189/189 [==============================] - 4s 20ms/step - loss: 3.8748 - accuracy: 0.3274 - val_loss: 5.0933 - val_accuracy: 0.1716\n",
      "Epoch 6/30\n",
      "189/189 [==============================] - 4s 20ms/step - loss: 3.7260 - accuracy: 0.3479 - val_loss: 5.0301 - val_accuracy: 0.1836\n",
      "Epoch 7/30\n",
      "189/189 [==============================] - 4s 20ms/step - loss: 3.5948 - accuracy: 0.3662 - val_loss: 4.9748 - val_accuracy: 0.1961\n",
      "Epoch 8/30\n",
      "189/189 [==============================] - 4s 22ms/step - loss: 3.4759 - accuracy: 0.3821 - val_loss: 4.9324 - val_accuracy: 0.2054\n",
      "Epoch 9/30\n",
      "189/189 [==============================] - 4s 21ms/step - loss: 3.3663 - accuracy: 0.3994 - val_loss: 4.8735 - val_accuracy: 0.2115\n",
      "Epoch 10/30\n",
      "189/189 [==============================] - 4s 23ms/step - loss: 3.2621 - accuracy: 0.4153 - val_loss: 4.8414 - val_accuracy: 0.2223\n",
      "Epoch 11/30\n",
      "189/189 [==============================] - 4s 22ms/step - loss: 3.1659 - accuracy: 0.4312 - val_loss: 4.8456 - val_accuracy: 0.2234\n",
      "Epoch 12/30\n",
      "189/189 [==============================] - 4s 21ms/step - loss: 3.0758 - accuracy: 0.4428 - val_loss: 4.8345 - val_accuracy: 0.2285\n",
      "Epoch 13/30\n",
      "106/189 [===============>..............] - ETA: 1s - loss: 2.9784 - accuracy: 0.4567"
     ]
    },
    {
     "ename": "KeyboardInterrupt",
     "evalue": "",
     "output_type": "error",
     "traceback": [
      "\u001b[0;31m---------------------------------------------------------------------------\u001b[0m",
      "\u001b[0;31mKeyboardInterrupt\u001b[0m                         Traceback (most recent call last)",
      "\u001b[0;32m<ipython-input-706-8f60339491f6>\u001b[0m in \u001b[0;36m<module>\u001b[0;34m\u001b[0m\n\u001b[0;32m----> 1\u001b[0;31m \u001b[0mmodel\u001b[0m\u001b[0;34m.\u001b[0m\u001b[0mfit\u001b[0m\u001b[0;34m(\u001b[0m\u001b[0;34m[\u001b[0m\u001b[0mencoder_input_data\u001b[0m\u001b[0;34m,\u001b[0m \u001b[0mdecoder_input_data\u001b[0m\u001b[0;34m]\u001b[0m\u001b[0;34m,\u001b[0m \u001b[0mdecoder_output_data\u001b[0m\u001b[0;34m,\u001b[0m \u001b[0mepochs\u001b[0m\u001b[0;34m=\u001b[0m\u001b[0;36m30\u001b[0m\u001b[0;34m,\u001b[0m \u001b[0mbatch_size\u001b[0m\u001b[0;34m=\u001b[0m\u001b[0;36m32\u001b[0m\u001b[0;34m,\u001b[0m \u001b[0mvalidation_split\u001b[0m\u001b[0;34m=\u001b[0m\u001b[0;36m0.2\u001b[0m\u001b[0;34m)\u001b[0m\u001b[0;34m\u001b[0m\u001b[0;34m\u001b[0m\u001b[0m\n\u001b[0m",
      "\u001b[0;32m~/.local/share/virtualenvs/playground-eoe37XGW/lib/python3.8/site-packages/tensorflow/python/keras/engine/training.py\u001b[0m in \u001b[0;36mfit\u001b[0;34m(self, x, y, batch_size, epochs, verbose, callbacks, validation_split, validation_data, shuffle, class_weight, sample_weight, initial_epoch, steps_per_epoch, validation_steps, validation_batch_size, validation_freq, max_queue_size, workers, use_multiprocessing)\u001b[0m\n\u001b[1;32m   1181\u001b[0m                 _r=1):\n\u001b[1;32m   1182\u001b[0m               \u001b[0mcallbacks\u001b[0m\u001b[0;34m.\u001b[0m\u001b[0mon_train_batch_begin\u001b[0m\u001b[0;34m(\u001b[0m\u001b[0mstep\u001b[0m\u001b[0;34m)\u001b[0m\u001b[0;34m\u001b[0m\u001b[0;34m\u001b[0m\u001b[0m\n\u001b[0;32m-> 1183\u001b[0;31m               \u001b[0mtmp_logs\u001b[0m \u001b[0;34m=\u001b[0m \u001b[0mself\u001b[0m\u001b[0;34m.\u001b[0m\u001b[0mtrain_function\u001b[0m\u001b[0;34m(\u001b[0m\u001b[0miterator\u001b[0m\u001b[0;34m)\u001b[0m\u001b[0;34m\u001b[0m\u001b[0;34m\u001b[0m\u001b[0m\n\u001b[0m\u001b[1;32m   1184\u001b[0m               \u001b[0;32mif\u001b[0m \u001b[0mdata_handler\u001b[0m\u001b[0;34m.\u001b[0m\u001b[0mshould_sync\u001b[0m\u001b[0;34m:\u001b[0m\u001b[0;34m\u001b[0m\u001b[0;34m\u001b[0m\u001b[0m\n\u001b[1;32m   1185\u001b[0m                 \u001b[0mcontext\u001b[0m\u001b[0;34m.\u001b[0m\u001b[0masync_wait\u001b[0m\u001b[0;34m(\u001b[0m\u001b[0;34m)\u001b[0m\u001b[0;34m\u001b[0m\u001b[0;34m\u001b[0m\u001b[0m\n",
      "\u001b[0;32m~/.local/share/virtualenvs/playground-eoe37XGW/lib/python3.8/site-packages/tensorflow/python/eager/def_function.py\u001b[0m in \u001b[0;36m__call__\u001b[0;34m(self, *args, **kwds)\u001b[0m\n\u001b[1;32m    887\u001b[0m \u001b[0;34m\u001b[0m\u001b[0m\n\u001b[1;32m    888\u001b[0m       \u001b[0;32mwith\u001b[0m \u001b[0mOptionalXlaContext\u001b[0m\u001b[0;34m(\u001b[0m\u001b[0mself\u001b[0m\u001b[0;34m.\u001b[0m\u001b[0m_jit_compile\u001b[0m\u001b[0;34m)\u001b[0m\u001b[0;34m:\u001b[0m\u001b[0;34m\u001b[0m\u001b[0;34m\u001b[0m\u001b[0m\n\u001b[0;32m--> 889\u001b[0;31m         \u001b[0mresult\u001b[0m \u001b[0;34m=\u001b[0m \u001b[0mself\u001b[0m\u001b[0;34m.\u001b[0m\u001b[0m_call\u001b[0m\u001b[0;34m(\u001b[0m\u001b[0;34m*\u001b[0m\u001b[0margs\u001b[0m\u001b[0;34m,\u001b[0m \u001b[0;34m**\u001b[0m\u001b[0mkwds\u001b[0m\u001b[0;34m)\u001b[0m\u001b[0;34m\u001b[0m\u001b[0;34m\u001b[0m\u001b[0m\n\u001b[0m\u001b[1;32m    890\u001b[0m \u001b[0;34m\u001b[0m\u001b[0m\n\u001b[1;32m    891\u001b[0m       \u001b[0mnew_tracing_count\u001b[0m \u001b[0;34m=\u001b[0m \u001b[0mself\u001b[0m\u001b[0;34m.\u001b[0m\u001b[0mexperimental_get_tracing_count\u001b[0m\u001b[0;34m(\u001b[0m\u001b[0;34m)\u001b[0m\u001b[0;34m\u001b[0m\u001b[0;34m\u001b[0m\u001b[0m\n",
      "\u001b[0;32m~/.local/share/virtualenvs/playground-eoe37XGW/lib/python3.8/site-packages/tensorflow/python/eager/def_function.py\u001b[0m in \u001b[0;36m_call\u001b[0;34m(self, *args, **kwds)\u001b[0m\n\u001b[1;32m    915\u001b[0m       \u001b[0;31m# In this case we have created variables on the first call, so we run the\u001b[0m\u001b[0;34m\u001b[0m\u001b[0;34m\u001b[0m\u001b[0;34m\u001b[0m\u001b[0m\n\u001b[1;32m    916\u001b[0m       \u001b[0;31m# defunned version which is guaranteed to never create variables.\u001b[0m\u001b[0;34m\u001b[0m\u001b[0;34m\u001b[0m\u001b[0;34m\u001b[0m\u001b[0m\n\u001b[0;32m--> 917\u001b[0;31m       \u001b[0;32mreturn\u001b[0m \u001b[0mself\u001b[0m\u001b[0;34m.\u001b[0m\u001b[0m_stateless_fn\u001b[0m\u001b[0;34m(\u001b[0m\u001b[0;34m*\u001b[0m\u001b[0margs\u001b[0m\u001b[0;34m,\u001b[0m \u001b[0;34m**\u001b[0m\u001b[0mkwds\u001b[0m\u001b[0;34m)\u001b[0m  \u001b[0;31m# pylint: disable=not-callable\u001b[0m\u001b[0;34m\u001b[0m\u001b[0;34m\u001b[0m\u001b[0m\n\u001b[0m\u001b[1;32m    918\u001b[0m     \u001b[0;32melif\u001b[0m \u001b[0mself\u001b[0m\u001b[0;34m.\u001b[0m\u001b[0m_stateful_fn\u001b[0m \u001b[0;32mis\u001b[0m \u001b[0;32mnot\u001b[0m \u001b[0;32mNone\u001b[0m\u001b[0;34m:\u001b[0m\u001b[0;34m\u001b[0m\u001b[0;34m\u001b[0m\u001b[0m\n\u001b[1;32m    919\u001b[0m       \u001b[0;31m# Release the lock early so that multiple threads can perform the call\u001b[0m\u001b[0;34m\u001b[0m\u001b[0;34m\u001b[0m\u001b[0;34m\u001b[0m\u001b[0m\n",
      "\u001b[0;32m~/.local/share/virtualenvs/playground-eoe37XGW/lib/python3.8/site-packages/tensorflow/python/eager/function.py\u001b[0m in \u001b[0;36m__call__\u001b[0;34m(self, *args, **kwargs)\u001b[0m\n\u001b[1;32m   3021\u001b[0m       (graph_function,\n\u001b[1;32m   3022\u001b[0m        filtered_flat_args) = self._maybe_define_function(args, kwargs)\n\u001b[0;32m-> 3023\u001b[0;31m     return graph_function._call_flat(\n\u001b[0m\u001b[1;32m   3024\u001b[0m         filtered_flat_args, captured_inputs=graph_function.captured_inputs)  # pylint: disable=protected-access\n\u001b[1;32m   3025\u001b[0m \u001b[0;34m\u001b[0m\u001b[0m\n",
      "\u001b[0;32m~/.local/share/virtualenvs/playground-eoe37XGW/lib/python3.8/site-packages/tensorflow/python/eager/function.py\u001b[0m in \u001b[0;36m_call_flat\u001b[0;34m(self, args, captured_inputs, cancellation_manager)\u001b[0m\n\u001b[1;32m   1958\u001b[0m         and executing_eagerly):\n\u001b[1;32m   1959\u001b[0m       \u001b[0;31m# No tape is watching; skip to running the function.\u001b[0m\u001b[0;34m\u001b[0m\u001b[0;34m\u001b[0m\u001b[0;34m\u001b[0m\u001b[0m\n\u001b[0;32m-> 1960\u001b[0;31m       return self._build_call_outputs(self._inference_function.call(\n\u001b[0m\u001b[1;32m   1961\u001b[0m           ctx, args, cancellation_manager=cancellation_manager))\n\u001b[1;32m   1962\u001b[0m     forward_backward = self._select_forward_and_backward_functions(\n",
      "\u001b[0;32m~/.local/share/virtualenvs/playground-eoe37XGW/lib/python3.8/site-packages/tensorflow/python/eager/function.py\u001b[0m in \u001b[0;36mcall\u001b[0;34m(self, ctx, args, cancellation_manager)\u001b[0m\n\u001b[1;32m    589\u001b[0m       \u001b[0;32mwith\u001b[0m \u001b[0m_InterpolateFunctionError\u001b[0m\u001b[0;34m(\u001b[0m\u001b[0mself\u001b[0m\u001b[0;34m)\u001b[0m\u001b[0;34m:\u001b[0m\u001b[0;34m\u001b[0m\u001b[0;34m\u001b[0m\u001b[0m\n\u001b[1;32m    590\u001b[0m         \u001b[0;32mif\u001b[0m \u001b[0mcancellation_manager\u001b[0m \u001b[0;32mis\u001b[0m \u001b[0;32mNone\u001b[0m\u001b[0;34m:\u001b[0m\u001b[0;34m\u001b[0m\u001b[0;34m\u001b[0m\u001b[0m\n\u001b[0;32m--> 591\u001b[0;31m           outputs = execute.execute(\n\u001b[0m\u001b[1;32m    592\u001b[0m               \u001b[0mstr\u001b[0m\u001b[0;34m(\u001b[0m\u001b[0mself\u001b[0m\u001b[0;34m.\u001b[0m\u001b[0msignature\u001b[0m\u001b[0;34m.\u001b[0m\u001b[0mname\u001b[0m\u001b[0;34m)\u001b[0m\u001b[0;34m,\u001b[0m\u001b[0;34m\u001b[0m\u001b[0;34m\u001b[0m\u001b[0m\n\u001b[1;32m    593\u001b[0m               \u001b[0mnum_outputs\u001b[0m\u001b[0;34m=\u001b[0m\u001b[0mself\u001b[0m\u001b[0;34m.\u001b[0m\u001b[0m_num_outputs\u001b[0m\u001b[0;34m,\u001b[0m\u001b[0;34m\u001b[0m\u001b[0;34m\u001b[0m\u001b[0m\n",
      "\u001b[0;32m~/.local/share/virtualenvs/playground-eoe37XGW/lib/python3.8/site-packages/tensorflow/python/eager/execute.py\u001b[0m in \u001b[0;36mquick_execute\u001b[0;34m(op_name, num_outputs, inputs, attrs, ctx, name)\u001b[0m\n\u001b[1;32m     57\u001b[0m   \u001b[0;32mtry\u001b[0m\u001b[0;34m:\u001b[0m\u001b[0;34m\u001b[0m\u001b[0;34m\u001b[0m\u001b[0m\n\u001b[1;32m     58\u001b[0m     \u001b[0mctx\u001b[0m\u001b[0;34m.\u001b[0m\u001b[0mensure_initialized\u001b[0m\u001b[0;34m(\u001b[0m\u001b[0;34m)\u001b[0m\u001b[0;34m\u001b[0m\u001b[0;34m\u001b[0m\u001b[0m\n\u001b[0;32m---> 59\u001b[0;31m     tensors = pywrap_tfe.TFE_Py_Execute(ctx._handle, device_name, op_name,\n\u001b[0m\u001b[1;32m     60\u001b[0m                                         inputs, attrs, num_outputs)\n\u001b[1;32m     61\u001b[0m   \u001b[0;32mexcept\u001b[0m \u001b[0mcore\u001b[0m\u001b[0;34m.\u001b[0m\u001b[0m_NotOkStatusException\u001b[0m \u001b[0;32mas\u001b[0m \u001b[0me\u001b[0m\u001b[0;34m:\u001b[0m\u001b[0;34m\u001b[0m\u001b[0;34m\u001b[0m\u001b[0m\n",
      "\u001b[0;31mKeyboardInterrupt\u001b[0m: "
     ]
    }
   ],
   "source": [
    "model.fit([encoder_input_data, decoder_input_data], decoder_output_data, epochs=30, batch_size=32, validation_split=0.2)"
   ]
  },
  {
   "cell_type": "code",
   "execution_count": 522,
   "id": "cfe598b8",
   "metadata": {},
   "outputs": [
    {
     "data": {
      "text/plain": [
       "'embedding_39'"
      ]
     },
     "execution_count": 522,
     "metadata": {},
     "output_type": "execute_result"
    }
   ],
   "source": [
    "model.layers[2].name"
   ]
  },
  {
   "cell_type": "code",
   "execution_count": 681,
   "id": "8b93b3e0",
   "metadata": {},
   "outputs": [],
   "source": [
    "encoder_input = model.inputs[0]\n",
    "encoder_embedding = model.layers[2](encoder_input)"
   ]
  },
  {
   "cell_type": "code",
   "execution_count": 682,
   "id": "e6b8c2ec",
   "metadata": {},
   "outputs": [],
   "source": [
    "encoder_output, encoder_state = model.layers[4](encoder_embedding)"
   ]
  },
  {
   "cell_type": "code",
   "execution_count": 683,
   "id": "c84f3fe7",
   "metadata": {},
   "outputs": [],
   "source": [
    "encoder_model = keras.Model(encoder_input, encoder_state)"
   ]
  },
  {
   "cell_type": "code",
   "execution_count": 684,
   "id": "ecbf4bb0",
   "metadata": {},
   "outputs": [],
   "source": [
    "decoder_input = model.inputs[1]\n",
    "decoder_embedings = model.layers[3](decoder_input)"
   ]
  },
  {
   "cell_type": "code",
   "execution_count": 685,
   "id": "f45fa964",
   "metadata": {},
   "outputs": [],
   "source": [
    "decoder_input_state = keras.layers.Input(shape=[128, ])"
   ]
  },
  {
   "cell_type": "code",
   "execution_count": 686,
   "id": "d15697e2",
   "metadata": {},
   "outputs": [],
   "source": [
    "decoder_gru = model.layers[5]\n",
    "decoder_output, decoder_output_state = decoder_gru(decoder_embedings, initial_state=[decoder_input_state])"
   ]
  },
  {
   "cell_type": "code",
   "execution_count": 687,
   "id": "6605d003",
   "metadata": {},
   "outputs": [],
   "source": [
    "decoder_output = model.layers[6](decoder_output)"
   ]
  },
  {
   "cell_type": "code",
   "execution_count": 688,
   "id": "be97bea6",
   "metadata": {},
   "outputs": [],
   "source": [
    "decoder_model = keras.Model([decoder_input, decoder_input_state], [decoder_output, decoder_output_state])"
   ]
  },
  {
   "cell_type": "code",
   "execution_count": 689,
   "id": "4cbdedfa",
   "metadata": {},
   "outputs": [],
   "source": [
    "max_seq = 20\n",
    "def decoder_seq(input_seq):\n",
    "    init_state = encoder_model(input_seq)\n",
    "\n",
    "    end_condition = False\n",
    "    target_input = np.expand_dims(rus_token_to_index.get('<sos>'), axis=[0, 1])\n",
    "    decoded_sent = \"\"\n",
    "    while not end_condition:\n",
    "        decoder_output, init_state = decoder_model([target_input, init_state])\n",
    "        decode_char_index = np.argmax(decoder_output[0, -1, :])\n",
    "        decoded_sent += rus_index_to_token[decode_char_index]\n",
    "        \n",
    "        if decode_char_index == rus_token_to_index.get('<eos>') or len(decoded_sent) > max_seq:\n",
    "            end_condition = True\n",
    "            \n",
    "        target_input = np.expand_dims(decode_char_index, axis=[0, 1])\n",
    "        print(target_input)\n",
    "    \n",
    "    return decoded_sent"
   ]
  },
  {
   "cell_type": "code",
   "execution_count": 692,
   "id": "001a20cf",
   "metadata": {},
   "outputs": [
    {
     "name": "stdout",
     "output_type": "stream",
     "text": [
      "[[87]]\n",
      "[[20]]\n",
      "[[100]]\n",
      "[[100]]\n",
      "[[4]]\n",
      "[[3]]\n"
     ]
    },
    {
     "data": {
      "text/plain": [
       "'hãynóithậtthật.<eos>'"
      ]
     },
     "execution_count": 692,
     "metadata": {},
     "output_type": "execute_result"
    }
   ],
   "source": [
    "decoder_seq(np.array([[   1,    1,    1,    1,    1,    3,  112, 1322]]))"
   ]
  },
  {
   "cell_type": "code",
   "execution_count": 691,
   "id": "df974a7f",
   "metadata": {},
   "outputs": [
    {
     "data": {
      "text/plain": [
       "array([   1,    1,    1,    1,    1,    3,  112, 1322])"
      ]
     },
     "execution_count": 691,
     "metadata": {},
     "output_type": "execute_result"
    }
   ],
   "source": [
    "encoder_input_data[3]"
   ]
  },
  {
   "cell_type": "code",
   "execution_count": 690,
   "id": "7527e132",
   "metadata": {},
   "outputs": [
    {
     "data": {
      "text/plain": [
       "['chào', 'bạn', '.']"
      ]
     },
     "execution_count": 690,
     "metadata": {},
     "output_type": "execute_result"
    }
   ],
   "source": [
    "rus[3]"
   ]
  },
  {
   "cell_type": "code",
   "execution_count": 715,
   "id": "724d9a2d",
   "metadata": {},
   "outputs": [],
   "source": [
    "dataset = tf.data.Dataset.from_tensor_slices(tf.range(100)).batch(10).batch(4)"
   ]
  },
  {
   "cell_type": "code",
   "execution_count": 716,
   "id": "f00bb07e",
   "metadata": {},
   "outputs": [
    {
     "data": {
      "text/plain": [
       "<tf.Tensor: shape=(4, 10), dtype=int32, numpy=\n",
       "array([[ 0,  1,  2,  3,  4,  5,  6,  7,  8,  9],\n",
       "       [10, 11, 12, 13, 14, 15, 16, 17, 18, 19],\n",
       "       [20, 21, 22, 23, 24, 25, 26, 27, 28, 29],\n",
       "       [30, 31, 32, 33, 34, 35, 36, 37, 38, 39]], dtype=int32)>"
      ]
     },
     "execution_count": 716,
     "metadata": {},
     "output_type": "execute_result"
    }
   ],
   "source": [
    "next(iter(dataset))"
   ]
  },
  {
   "cell_type": "code",
   "execution_count": 719,
   "id": "e151616c",
   "metadata": {},
   "outputs": [],
   "source": [
    "b = np.expand_dims(a, axis=[-1, -2])"
   ]
  },
  {
   "cell_type": "code",
   "execution_count": 721,
   "id": "ca89afc2",
   "metadata": {},
   "outputs": [],
   "source": [
    "dense = keras.layers.Dense(1)"
   ]
  },
  {
   "cell_type": "code",
   "execution_count": 722,
   "id": "b1146299",
   "metadata": {},
   "outputs": [
    {
     "data": {
      "text/plain": [
       "<tf.Tensor: shape=(1, 4, 1, 1), dtype=float32, numpy=\n",
       "array([[[[-1.1476626]],\n",
       "\n",
       "        [[-2.2953253]],\n",
       "\n",
       "        [[-3.442988 ]],\n",
       "\n",
       "        [[-4.5906506]]]], dtype=float32)>"
      ]
     },
     "execution_count": 722,
     "metadata": {},
     "output_type": "execute_result"
    }
   ],
   "source": [
    "dense(b)"
   ]
  },
  {
   "cell_type": "code",
   "execution_count": 729,
   "id": "d7f36ab3",
   "metadata": {},
   "outputs": [],
   "source": [
    "c = np.arange(64).reshape(2, 2, 4, 4)"
   ]
  },
  {
   "cell_type": "code",
   "execution_count": 731,
   "id": "6fd78fce",
   "metadata": {},
   "outputs": [
    {
     "data": {
      "text/plain": [
       "(2, 2, 4, 1)"
      ]
     },
     "execution_count": 731,
     "metadata": {},
     "output_type": "execute_result"
    }
   ],
   "source": [
    "c.dot(np.arange(4).reshape(-1, 1)).shape"
   ]
  },
  {
   "cell_type": "code",
   "execution_count": null,
   "id": "f140a2d2",
   "metadata": {},
   "outputs": [],
   "source": []
  }
 ],
 "metadata": {
  "kernelspec": {
   "display_name": "Python 3",
   "language": "python",
   "name": "python3"
  },
  "language_info": {
   "codemirror_mode": {
    "name": "ipython",
    "version": 3
   },
   "file_extension": ".py",
   "mimetype": "text/x-python",
   "name": "python",
   "nbconvert_exporter": "python",
   "pygments_lexer": "ipython3",
   "version": "3.8.3"
  }
 },
 "nbformat": 4,
 "nbformat_minor": 5
}
