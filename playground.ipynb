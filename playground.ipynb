{
 "cells": [
  {
   "cell_type": "code",
   "execution_count": 2,
   "id": "6c88cdfd",
   "metadata": {},
   "outputs": [],
   "source": [
    "import tensorflow as tf"
   ]
  },
  {
   "cell_type": "code",
   "execution_count": 15,
   "id": "9ebbfb08",
   "metadata": {},
   "outputs": [],
   "source": [
    "a = tf.Variable(1.0)\n",
    "@tf.function\n",
    "def assign():\n",
    "    a.assign(1.0)\n",
    "    print('Tracing!!')\n",
    "    return a"
   ]
  },
  {
   "cell_type": "code",
   "execution_count": 16,
   "id": "d6b32f11",
   "metadata": {},
   "outputs": [
    {
     "name": "stdout",
     "output_type": "stream",
     "text": [
      "Tracing!!\n"
     ]
    },
    {
     "data": {
      "text/plain": [
       "<tf.Tensor: shape=(), dtype=float32, numpy=1.0>"
      ]
     },
     "execution_count": 16,
     "metadata": {},
     "output_type": "execute_result"
    }
   ],
   "source": [
    "assign()"
   ]
  },
  {
   "cell_type": "code",
   "execution_count": 17,
   "id": "e05b09e4",
   "metadata": {},
   "outputs": [
    {
     "data": {
      "text/plain": [
       "<tf.Tensor: shape=(), dtype=float32, numpy=1.0>"
      ]
     },
     "execution_count": 17,
     "metadata": {},
     "output_type": "execute_result"
    }
   ],
   "source": [
    "assign()"
   ]
  },
  {
   "cell_type": "code",
   "execution_count": 6,
   "id": "8cd09dbf",
   "metadata": {},
   "outputs": [],
   "source": [
    "b = assign(tf.constant(1.0))"
   ]
  },
  {
   "cell_type": "code",
   "execution_count": 7,
   "id": "c385cf11",
   "metadata": {},
   "outputs": [
    {
     "name": "stdout",
     "output_type": "stream",
     "text": [
      "Tracing!!\n"
     ]
    }
   ],
   "source": [
    "c = assign(tf.Variable(1.0))"
   ]
  },
  {
   "cell_type": "code",
   "execution_count": 8,
   "id": "30f3dcf5",
   "metadata": {},
   "outputs": [
    {
     "name": "stdout",
     "output_type": "stream",
     "text": [
      "Tracing!!\n"
     ]
    }
   ],
   "source": [
    "d = assign(tf.Variable(1.0))"
   ]
  },
  {
   "cell_type": "code",
   "execution_count": null,
   "id": "cedeca2c",
   "metadata": {},
   "outputs": [],
   "source": []
  }
 ],
 "metadata": {
  "kernelspec": {
   "display_name": "Python 3",
   "language": "python",
   "name": "python3"
  },
  "language_info": {
   "codemirror_mode": {
    "name": "ipython",
    "version": 3
   },
   "file_extension": ".py",
   "mimetype": "text/x-python",
   "name": "python",
   "nbconvert_exporter": "python",
   "pygments_lexer": "ipython3",
   "version": "3.8.3"
  }
 },
 "nbformat": 4,
 "nbformat_minor": 5
}
