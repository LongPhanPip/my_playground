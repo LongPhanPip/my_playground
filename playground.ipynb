{
 "cells": [
  {
   "cell_type": "code",
   "execution_count": 1,
   "id": "6c88cdfd",
   "metadata": {},
   "outputs": [],
   "source": [
    "import tensorflow as tf"
   ]
  },
  {
   "cell_type": "code",
   "execution_count": 15,
   "id": "9ebbfb08",
   "metadata": {},
   "outputs": [],
   "source": [
    "a = tf.Variable(1.0)\n",
    "@tf.function\n",
    "def assign():\n",
    "    a.assign(1.0)\n",
    "    print('Tracing!!')\n",
    "    return a"
   ]
  },
  {
   "cell_type": "code",
   "execution_count": 16,
   "id": "d6b32f11",
   "metadata": {},
   "outputs": [
    {
     "name": "stdout",
     "output_type": "stream",
     "text": [
      "Tracing!!\n"
     ]
    },
    {
     "data": {
      "text/plain": [
       "<tf.Tensor: shape=(), dtype=float32, numpy=1.0>"
      ]
     },
     "execution_count": 16,
     "metadata": {},
     "output_type": "execute_result"
    }
   ],
   "source": [
    "assign()"
   ]
  },
  {
   "cell_type": "code",
   "execution_count": 17,
   "id": "e05b09e4",
   "metadata": {},
   "outputs": [
    {
     "data": {
      "text/plain": [
       "<tf.Tensor: shape=(), dtype=float32, numpy=1.0>"
      ]
     },
     "execution_count": 17,
     "metadata": {},
     "output_type": "execute_result"
    }
   ],
   "source": [
    "assign()"
   ]
  },
  {
   "cell_type": "code",
   "execution_count": 6,
   "id": "8cd09dbf",
   "metadata": {},
   "outputs": [],
   "source": [
    "b = assign(tf.constant(1.0))"
   ]
  },
  {
   "cell_type": "code",
   "execution_count": 7,
   "id": "c385cf11",
   "metadata": {},
   "outputs": [
    {
     "name": "stdout",
     "output_type": "stream",
     "text": [
      "Tracing!!\n"
     ]
    }
   ],
   "source": [
    "c = assign(tf.Variable(1.0))"
   ]
  },
  {
   "cell_type": "code",
   "execution_count": 8,
   "id": "30f3dcf5",
   "metadata": {},
   "outputs": [
    {
     "name": "stdout",
     "output_type": "stream",
     "text": [
      "Tracing!!\n"
     ]
    }
   ],
   "source": [
    "d = assign(tf.Variable(1.0))"
   ]
  },
  {
   "cell_type": "code",
   "execution_count": 3,
   "id": "cedeca2c",
   "metadata": {},
   "outputs": [],
   "source": [
    "class ResnetIdentityBlock(tf.keras.Model):\n",
    "    def __init__(self, kernel_size, filters):\n",
    "        super(ResnetIdentityBlock, self).__init__(name='')\n",
    "        filters1, filters2, filters3 = filters\n",
    "\n",
    "        self.conv2a = tf.keras.layers.Conv2D(filters1, (1, 1))\n",
    "        self.bn2a = tf.keras.layers.BatchNormalization()\n",
    "\n",
    "        self.conv2b = tf.keras.layers.Conv2D(filters2, kernel_size, padding='same')\n",
    "        self.bn2b = tf.keras.layers.BatchNormalization()\n",
    "\n",
    "        self.conv2c = tf.keras.layers.Conv2D(filters3, (1, 1))\n",
    "        self.bn2c = tf.keras.layers.BatchNormalization()\n",
    "\n",
    "    def call(self, input_tensor, training=False):\n",
    "        x = self.conv2a(input_tensor)\n",
    "        x = self.bn2a(x, training=training)\n",
    "        x = tf.nn.relu(x)\n",
    "\n",
    "        x = self.conv2b(x)\n",
    "        x = self.bn2b(x, training=training)\n",
    "        x = tf.nn.relu(x)\n",
    "\n",
    "        x = self.conv2c(x)\n",
    "        x = self.bn2c(x, training=training)\n",
    "\n",
    "        x += input_tensor\n",
    "        return tf.nn.relu(x)\n",
    "\n",
    "\n",
    "block = ResnetIdentityBlock(1, [1, 2, 3])"
   ]
  },
  {
   "cell_type": "code",
   "execution_count": 4,
   "id": "3f6be9ef",
   "metadata": {},
   "outputs": [
    {
     "data": {
      "text/plain": [
       "[<tensorflow.python.keras.layers.convolutional.Conv2D at 0x1666400d0>,\n",
       " <tensorflow.python.keras.layers.normalization_v2.BatchNormalization at 0x166701b80>,\n",
       " <tensorflow.python.keras.layers.convolutional.Conv2D at 0x1666f9460>,\n",
       " <tensorflow.python.keras.layers.normalization_v2.BatchNormalization at 0x1666f98e0>,\n",
       " <tensorflow.python.keras.layers.convolutional.Conv2D at 0x1666f9c10>,\n",
       " <tensorflow.python.keras.layers.normalization_v2.BatchNormalization at 0x1666f9df0>]"
      ]
     },
     "execution_count": 4,
     "metadata": {},
     "output_type": "execute_result"
    }
   ],
   "source": [
    "block.layers"
   ]
  },
  {
   "cell_type": "code",
   "execution_count": 6,
   "id": "285e2659",
   "metadata": {},
   "outputs": [],
   "source": [
    "_ = block(tf.zeros([1, 2, 3, 3]))"
   ]
  },
  {
   "cell_type": "code",
   "execution_count": 7,
   "id": "41e15f84",
   "metadata": {},
   "outputs": [
    {
     "name": "stdout",
     "output_type": "stream",
     "text": [
      "Model: \"resnet_identity_block_1\"\n",
      "_________________________________________________________________\n",
      "Layer (type)                 Output Shape              Param #   \n",
      "=================================================================\n",
      "conv2d_3 (Conv2D)            multiple                  4         \n",
      "_________________________________________________________________\n",
      "batch_normalization_3 (Batch multiple                  4         \n",
      "_________________________________________________________________\n",
      "conv2d_4 (Conv2D)            multiple                  4         \n",
      "_________________________________________________________________\n",
      "batch_normalization_4 (Batch multiple                  8         \n",
      "_________________________________________________________________\n",
      "conv2d_5 (Conv2D)            multiple                  9         \n",
      "_________________________________________________________________\n",
      "batch_normalization_5 (Batch multiple                  12        \n",
      "=================================================================\n",
      "Total params: 41\n",
      "Trainable params: 29\n",
      "Non-trainable params: 12\n",
      "_________________________________________________________________\n"
     ]
    }
   ],
   "source": [
    "block.summary()"
   ]
  },
  {
   "cell_type": "code",
   "execution_count": null,
   "id": "84f022c3",
   "metadata": {},
   "outputs": [],
   "source": []
  }
 ],
 "metadata": {
  "kernelspec": {
   "display_name": "Python 3",
   "language": "python",
   "name": "python3"
  },
  "language_info": {
   "codemirror_mode": {
    "name": "ipython",
    "version": 3
   },
   "file_extension": ".py",
   "mimetype": "text/x-python",
   "name": "python",
   "nbconvert_exporter": "python",
   "pygments_lexer": "ipython3",
   "version": "3.8.3"
  }
 },
 "nbformat": 4,
 "nbformat_minor": 5
}
